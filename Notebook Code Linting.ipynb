{
 "cells": [
  {
   "cell_type": "markdown",
   "metadata": {},
   "source": [
    "# Linting Your Python Code\n",
    "\n",
    "One class of productivity tools that can be used to support the development of code that conforms to a particular style guide or coding convention such as [PEP8](https://www.python.org/dev/peps/pep-0008/) are known as *code linters*.\n",
    "\n",
    "These tools provide offline, static analysis of code and can generate reports that describe where code diverges from the style guide.\n",
    "\n",
    "Some tools may also automatically correct code style, although from a *learning* perspective it can often be more useful to be warned when you diverge from the code style guidelines so that you can fix the code (and learn how to write it correctly) rather than having the code style automatically corrected for you."
   ]
  },
  {
   "cell_type": "markdown",
   "metadata": {},
   "source": [
    "## Installation\n",
    "\n",
    "The [pycodestyle_magic](https://github.com/mattijn/pycodestyle_magic) extension provides some IPython magic for automatically running the `flake8` PEP8 linter against code cells each time you run them.\n",
    "\n",
    "If your code diverges from PEP8 style guidelines, a warning will be issued.\n",
    "\n",
    "Install the package by running the following command, which also installs some additional linting rules, such as rules covering function name styling and docstrings."
   ]
  },
  {
   "cell_type": "code",
   "execution_count": null,
   "metadata": {},
   "outputs": [],
   "source": [
    "%%capture\n",
    "!pip install --user flake8 pycodestyle pycodestyle_magic\n",
    "\n",
    "#Install additional style convention rules\n",
    "!pip install --user pep8-naming flake8-bugbear flake8-docstrings flake8-builtins\n",
    "\n",
    "# Provide additional conventions for pandas code: https://github.com/deppen8/pandas-vet\n",
    "!pip install --user pandas-vet"
   ]
  },
  {
   "cell_type": "markdown",
   "metadata": {},
   "source": [
    "To disable rules associated with a particular `flake8` extension package, uninstall it and then restart the notebook kernel. For example:\n",
    "\n",
    "`!pip uninstall -y flake8-bugbear`"
   ]
  },
  {
   "cell_type": "markdown",
   "metadata": {},
   "source": [
    "Other `flake8` extensions can be found in this [*awesome list of `flake8` extensions*](https://github.com/DmytroLitvinov/awesome-flake8-extensions)."
   ]
  },
  {
   "cell_type": "markdown",
   "metadata": {},
   "source": [
    "## Loading the Magic\n",
    "\n",
    "Each time you want to run the linter, you need to load the magic into a notebook using the command:"
   ]
  },
  {
   "cell_type": "code",
   "execution_count": null,
   "metadata": {},
   "outputs": [],
   "source": [
    "%load_ext pycodestyle_magic"
   ]
  },
  {
   "cell_type": "markdown",
   "metadata": {},
   "source": [
    "Alternatively, you can modify the startup file that is loaded in to each notebook to automatically load the magic into every notebook. Run the following cell to update the startup file:"
   ]
  },
  {
   "cell_type": "code",
   "execution_count": null,
   "metadata": {},
   "outputs": [],
   "source": [
    "!echo \"\\n%load_ext pycodestyle_magic\\n\" >> /home/oustudent/.ipython/profile_default/startup/tm351_start.ipy\n"
   ]
  },
  {
   "cell_type": "markdown",
   "metadata": {},
   "source": [
    "## Enabling the Magic\n",
    "\n",
    "The linter can be enabled within a particular notebook by running the magic command:"
   ]
  },
  {
   "cell_type": "code",
   "execution_count": null,
   "metadata": {},
   "outputs": [],
   "source": [
    "%flake8_on"
   ]
  },
  {
   "cell_type": "markdown",
   "metadata": {
    "slideshow": {
     "slide_type": "slide"
    }
   },
   "source": [
    "With the linter enabled, each time you run a code cell the code within it will be passed through the linter, and any deviations from the flake installed style conventions will be reported on.\n",
    "\n",
    "If you want the automatic linter to be enabled automatically for each notebook, add the `flake8_on` command to the notebook startup file:"
   ]
  },
  {
   "cell_type": "code",
   "execution_count": null,
   "metadata": {},
   "outputs": [],
   "source": [
    "echo \"\\nflake8_on\\n\" >> /home/oustudent/.ipython/profile_default/startup/tm351_start.ipy\n"
   ]
  },
  {
   "cell_type": "markdown",
   "metadata": {
    "slideshow": {
     "slide_type": "slide"
    }
   },
   "source": [
    "Automatic running of the linter within a notebook can be disabled by using the command: `%flake8_off`"
   ]
  },
  {
   "cell_type": "markdown",
   "metadata": {},
   "source": [
    "*Note that if you have turned `flake8_on` several times in the same notebook, you need to run `%flake8_off` the same number of times to disable it.*"
   ]
  },
  {
   "cell_type": "markdown",
   "metadata": {},
   "source": [
    "Note that the linter is run against the complete contents of *every* code cell, so if you include IPython command line directives (lines prefixed with a `!` that execute code on the command line), these lines are likely to raise warnings."
   ]
  },
  {
   "cell_type": "code",
   "execution_count": null,
   "metadata": {},
   "outputs": [],
   "source": [
    "! echo \"hello\""
   ]
  },
  {
   "cell_type": "markdown",
   "metadata": {},
   "source": [
    "As the linter is applied to the complete contents of a code cell, to prevent the linter being applied to a particular cell, you need to run `%flake8_off` in the cell before it, and then enable `%flake8_on` again at the end of the cell you want to run without linting."
   ]
  },
  {
   "cell_type": "code",
   "execution_count": null,
   "metadata": {},
   "outputs": [],
   "source": [
    "%flake8_off"
   ]
  },
  {
   "cell_type": "code",
   "execution_count": null,
   "metadata": {},
   "outputs": [],
   "source": [
    "! echo \"hello\"\n",
    "%flake8_on"
   ]
  },
  {
   "cell_type": "markdown",
   "metadata": {},
   "source": [
    "## Example Reports\n",
    "\n",
    "The following code cells contain examples code that will generate style guide warnings.\n",
    "\n",
    "*Note that the doctring warning D100 will be raised in each code cell because the code cell it treated as a Python module and the style guide requires it to be prefixed with docstring. Hopefully, a way of disabling certain warnings will be provided in a future version of the magic.*"
   ]
  },
  {
   "cell_type": "code",
   "execution_count": null,
   "metadata": {},
   "outputs": [],
   "source": [
    "a=1\n",
    "b = [1,2,3]\n",
    "map = None"
   ]
  },
  {
   "cell_type": "markdown",
   "metadata": {},
   "source": [
    "Correctly formatted code should have whitespace around the operator and after each `,` in the list. Any variable names that clash with Python reserved words are warned against."
   ]
  },
  {
   "cell_type": "code",
   "execution_count": null,
   "metadata": {},
   "outputs": [],
   "source": [
    "a = 1\n",
    "b = [1, 2, 3]\n",
    "my_map = None"
   ]
  },
  {
   "cell_type": "markdown",
   "metadata": {},
   "source": [
    "Several style conventions are associate with function definitions, including function naming and the requirement for a correctly styled docstring:"
   ]
  },
  {
   "cell_type": "code",
   "execution_count": null,
   "metadata": {},
   "outputs": [],
   "source": [
    "def myFunction(txt):\n",
    "    a=1\n",
    "    print(txt)\n",
    "    return"
   ]
  },
  {
   "cell_type": "markdown",
   "metadata": {},
   "source": [
    "Note that unused arguments are identified and warned about.\n",
    "\n",
    "A well formatted function takes the following form:"
   ]
  },
  {
   "cell_type": "code",
   "execution_count": null,
   "metadata": {},
   "outputs": [],
   "source": [
    "def my_function(txt):\n",
    "    \"\"\"Print a simple annotated message and return a number.\"\"\"\n",
    "    a = 1\n",
    "    print(txt)\n",
    "    return a"
   ]
  },
  {
   "cell_type": "markdown",
   "metadata": {},
   "source": [
    "## Automatically Repairing Incorrectly Styled Code"
   ]
  },
  {
   "cell_type": "markdown",
   "metadata": {},
   "source": [
    "Several tools are available that can be used to repair unstyled code, where possible:\n",
    "\n",
    "- within a single cell,\n",
    "- across all cells,\n",
    "- automatically whenever a code cell is run.\n",
    "\n",
    "One such tool is provided by the Python `autopep8` package. An `autopep8` extension is provided as part of the `jupyter_contrib_nbextensions` package but it requires the installation of the `autopep8` dependency to work:"
   ]
  },
  {
   "cell_type": "code",
   "execution_count": null,
   "metadata": {},
   "outputs": [],
   "source": [
    "%%capture\n",
    "!pip install --user autopep8\n",
    "\n",
    "#Enable the extension\n",
    "!jupyter nbextension enable code_prettify/autopep8"
   ]
  },
  {
   "cell_type": "markdown",
   "metadata": {},
   "source": [
    "The `autopep8` extension configurator can be found here: [code_prettify/autopep8](/nbextensions/?nbextension=code_prettify/autopep8)."
   ]
  },
  {
   "cell_type": "markdown",
   "metadata": {},
   "source": [
    "Reload the notebook to see the enabled toolbar button (a hammer).\n",
    "\n",
    "When a code cell such as the following code cell is selected, clicking the toolbar button will repair the code styling insofar as such repairs are possible."
   ]
  },
  {
   "cell_type": "code",
   "execution_count": null,
   "metadata": {},
   "outputs": [],
   "source": [
    "def myFunction(txt):\n",
    "    a=1\n",
    "    print(txt)\n",
    "    return"
   ]
  },
  {
   "cell_type": "markdown",
   "metadata": {},
   "source": [
    "Additional tools, including ones that run automatically, will be described in another document.\n",
    "\n",
    "Whilst automatic code styling support tools are undoubtedly useful, when learning good practice it can often be more useful — if not also slightly more annoying! — to receive a warning each time you do make a stylistic error."
   ]
  }
 ],
 "metadata": {
  "kernelspec": {
   "display_name": "Python 3",
   "language": "python",
   "name": "python3"
  },
  "language_info": {
   "codemirror_mode": {
    "name": "ipython",
    "version": 3
   },
   "file_extension": ".py",
   "mimetype": "text/x-python",
   "name": "python",
   "nbconvert_exporter": "python",
   "pygments_lexer": "ipython3",
   "version": "3.5.2"
  }
 },
 "nbformat": 4,
 "nbformat_minor": 2
}
