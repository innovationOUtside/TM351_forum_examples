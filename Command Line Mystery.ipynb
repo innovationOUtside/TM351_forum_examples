{
 "cells": [
  {
   "cell_type": "markdown",
   "metadata": {},
   "source": [
    "# Command-Line Mystery\n",
    "\n",
    "This notebook sets you up for running Noah Veltman's [commandline mystery](https://github.com/veltman/clmystery)."
   ]
  },
  {
   "cell_type": "markdown",
   "metadata": {},
   "source": [
    "To check where we are, display the current working directory.\n",
    "\n",
    "There are a several of ways we can do this, either using IPython magic:"
   ]
  },
  {
   "cell_type": "code",
   "execution_count": 38,
   "metadata": {},
   "outputs": [
    {
     "data": {
      "text/plain": [
       "'/vagrant/notebooks/tm351'"
      ]
     },
     "execution_count": 38,
     "metadata": {},
     "output_type": "execute_result"
    }
   ],
   "source": [
    "%pwd"
   ]
  },
  {
   "cell_type": "markdown",
   "metadata": {},
   "source": [
    "or a command line / shell command invocation:"
   ]
  },
  {
   "cell_type": "code",
   "execution_count": 39,
   "metadata": {},
   "outputs": [
    {
     "name": "stdout",
     "output_type": "stream",
     "text": [
      "/vagrant/notebooks/tm351\r\n"
     ]
    }
   ],
   "source": [
    "!pwd"
   ]
  },
  {
   "cell_type": "markdown",
   "metadata": {},
   "source": [
    "### Download the mystery\n",
    "\n",
    "The mystery files are provided in a zip file that we can download from `https://github.com/veltman/clmystery/archive/master.zip`.\n",
    "\n",
    "The `%%bash` block cell magic allows us to write several `bash` shell commands, that all execute wihting the same shell environment, in a single code cell:"
   ]
  },
  {
   "cell_type": "code",
   "execution_count": 11,
   "metadata": {},
   "outputs": [
    {
     "name": "stdout",
     "output_type": "stream",
     "text": [
      "cheatsheet.md\n",
      "cheatsheet.pdf\n",
      "encoded\n",
      "hint1\n",
      "hint2\n",
      "hint3\n",
      "hint4\n",
      "hint5\n",
      "hint6\n",
      "hint7\n",
      "hint8\n",
      "instructions\n",
      "LICENSE.md\n",
      "mystery\n",
      "README.md\n",
      "solution\n"
     ]
    }
   ],
   "source": [
    "%%bash\n",
    "#Download (wget) the file from the specified URL quietly (-q)\n",
    "wget -q https://github.com/veltman/clmystery/archive/master.zip\n",
    "\n",
    "#Unzip the file very quietly (-qq)\n",
    "unzip -qq master.zip\n",
    "\n",
    "#Delete the downloaded zip file\n",
    "rm master.zip\n",
    "\n",
    "#Display the contents of the unzipped file directory\n",
    "ls clmystery-master"
   ]
  },
  {
   "cell_type": "markdown",
   "metadata": {},
   "source": [
    "It probably makes sense to read the `README.html`"
   ]
  },
  {
   "cell_type": "code",
   "execution_count": 40,
   "metadata": {},
   "outputs": [
    {
     "name": "stdout",
     "output_type": "stream",
     "text": [
      "The Command Line Murders\r\n",
      "========================\r\n",
      "\r\n",
      "\t.OOOOOOOOOOOOOOO @@                                   @@ OOOOOOOOOOOOOOOO.\r\n",
      "\tOOOOOOOOOOOOOOOO @@                                    @@ OOOOOOOOOOOOOOOO\r\n",
      "\tOOOOOOOOOO'''''' @@                                    @@ ```````OOOOOOOOO\r\n",
      "\tOOOOO'' aaa@@@@@@@@@@@@@@@@@@@@\"\"\"                   \"\"\"\"\"\"\"\"\"@@aaaa `OOOO\r\n",
      "\tOOOOO,\"\"\"\"@@@@@@@@@@@@@@\"\"\"\"                                     a@\"\" OOOA\r\n",
      "\tOOOOOOOOOoooooo,                                            |OOoooooOOOOOS\r\n",
      "\tOOOOOOOOOOOOOOOOo,                                          |OOOOOOOOOOOOC\r\n",
      "\tOOOOOOOOOOOOOOOOOO                                         ,|OOOOOOOOOOOOI\r\n",
      "\tOOOOOOOOOOOOOOOOOO @          THE                          |OOOOOOOOOOOOOI\r\n",
      "\tOOOOOOOOOOOOOOOOO'@           COMMAND                      OOOOOOOOOOOOOOb\r\n",
      "\tOOOOOOOOOOOOOOO'a'            LINE                         |OOOOOOOOOOOOOy\r\n",
      "\tOOOOOOOOOOOOOO''              MURDERS                      aa`OOOOOOOOOOOP\r\n",
      "\tOOOOOOOOOOOOOOb,..                                          `@aa``OOOOOOOh\r\n",
      "\tOOOOOOOOOOOOOOOOOOo                                           `@@@aa OOOOo\r\n",
      "\tOOOOOOOOOOOOOOOOOOO|                                             @@@ OOOOe\r\n",
      "\tOOOOOOOOOOOOOOOOOOO@                               aaaaaaa       @@',OOOOn\r\n",
      "\tOOOOOOOOOOOOOOOOOOO@                        aaa@@@@@@@@\"\"        @@ OOOOOi\r\n",
      "\tOOOOOOOOOO~~ aaaaaa\"a                 aaa@@@@@@@@@@\"\"            @@ OOOOOx\r\n",
      "\tOOOOOO aaaa@\"\"\"\"\"\"\"\" \"\"            @@@@@@@@@@@@\"\"               @@@|`OOOO'\r\n",
      "\tOOOOOOOo`@@a                  aa@@  @@@@@@@\"\"         a@        @@@@ OOOO9\r\n",
      "\tOOOOOOO'  `@@a               @@a@@   @@\"\"           a@@   a     |@@@ OOOO3\r\n",
      "\t`OOOO'       `@    aa@@       aaa\"\"\"          @a        a@     a@@@',OOOO'\r\n",
      "\r\n",
      "\r\n",
      "There's been a murder in Terminal City, and TCPD needs your help.\r\n",
      "\r\n",
      "To figure out whodunit, you need access to a command line.\r\n",
      "\r\n",
      "Once you're ready, clone this repo, or [download it as a zip file](https://github.com/veltman/clmystery/archive/master.zip).\r\n",
      "\r\n",
      "Open a Terminal, go to the location of the files, and start by reading the file 'instructions'.\r\n",
      "\r\n",
      "One way you can do this is with the command:\r\n",
      "\r\n",
      "\tcat instructions\r\n",
      "\r\n",
      "(`cat` is a command that will print the contents of the file called `instructions` for you to read.)\r\n",
      "\r\n",
      "To get started on how to use the command line, open cheatsheet.md or cheatsheet.pdf (from the command line, you can type 'nano cheatsheet.md').\r\n",
      "\r\n",
      "Don't use a text editor to view any files except these instructions, the cheatsheet, and hints.\r\n",
      "\r\n",
      "### Credits\r\n",
      "\r\n",
      "By Noah Veltman  \r\n",
      "Projects: [noahveltman.com](http://noahveltman.com)  \r\n",
      "GitHub: [veltman](https://github.com/veltman)  \r\n",
      "Twitter: [@veltman](https://twitter.com/veltman)  \r\n"
     ]
    }
   ],
   "source": [
    "!cat clmystery-master/README.md"
   ]
  },
  {
   "cell_type": "markdown",
   "metadata": {},
   "source": [
    "Just before you get started on solving the mystery, it's worth noting that each time we run a shell command using `!`, or use the `%%bash` magic, the commands are run in their own shell:"
   ]
  },
  {
   "cell_type": "code",
   "execution_count": 30,
   "metadata": {},
   "outputs": [
    {
     "name": "stdout",
     "output_type": "stream",
     "text": [
      "/vagrant/notebooks/tm351/clmystery-master/mystery\n",
      "/vagrant/notebooks/tm351/clmystery-master\n",
      "/vagrant/notebooks/tm351/clmystery-master/mystery\n"
     ]
    }
   ],
   "source": [
    "#Print (echo) the current directory (pwd)\n",
    "!echo $(pwd)\n",
    "\n",
    "#Change directory to the parent directory\n",
    "# then (;) show the current directoy\n",
    "!cd ..; echo $(pwd)\n",
    "\n",
    "#Show the current directory\n",
    "!echo $(pwd)"
   ]
  },
  {
   "cell_type": "markdown",
   "metadata": {},
   "source": [
    "To \"persistently\" change the current directory, we need to change the directory used in the outer IPython environment from which the shell commands are run. We can do this using the `%cd` line magic:"
   ]
  },
  {
   "cell_type": "code",
   "execution_count": 33,
   "metadata": {},
   "outputs": [
    {
     "name": "stdout",
     "output_type": "stream",
     "text": [
      "/vagrant/notebooks/tm351/clmystery-master/mystery\n",
      "/vagrant/notebooks/tm351/clmystery-master/mystery\r\n"
     ]
    }
   ],
   "source": [
    "%cd clmystery-master/mystery\n",
    "!pwd"
   ]
  },
  {
   "cell_type": "markdown",
   "metadata": {},
   "source": [
    "List the contents of the current directory...:"
   ]
  },
  {
   "cell_type": "code",
   "execution_count": 17,
   "metadata": {},
   "outputs": [
    {
     "name": "stdout",
     "output_type": "stream",
     "text": [
      "crimescene  interviews\tmemberships  people  streets  vehicles\r\n"
     ]
    }
   ],
   "source": [
    "! ls"
   ]
  },
  {
   "cell_type": "markdown",
   "metadata": {},
   "source": [
    "The instructions suggest we need to start by looking at the crimescene report:"
   ]
  },
  {
   "cell_type": "code",
   "execution_count": null,
   "metadata": {
    "scrolled": true
   },
   "outputs": [],
   "source": [
    "!cat crimescene"
   ]
  },
  {
   "cell_type": "markdown",
   "metadata": {},
   "source": [
    "There's rather a lot in there, but we're told the clues are marked as a `CLUE`. TO get you started, here's one way of filtering out those items — use the `grep` command to search for lines containing the word `CLUE`:"
   ]
  },
  {
   "cell_type": "code",
   "execution_count": 21,
   "metadata": {},
   "outputs": [
    {
     "name": "stdout",
     "output_type": "stream",
     "text": [
      "CLUE: Footage from an ATM security camera is blurry but shows that the perpetrator is a tall male, at least 6'.\r\n",
      "CLUE: Found a wallet believed to belong to the killer: no ID, just loose change, and membership cards for AAA, Delta SkyMiles, the local library, and the Museum of Bash History. The cards are totally untraceable and have no name, for some reason.\r\n",
      "CLUE: Questioned the barista at the local coffee shop. He said a woman left right before they heard the shots. The name on her latte was Annabel, she had blond spiky hair and a New Zealand accent.\r\n"
     ]
    }
   ],
   "source": [
    "!grep CLUE crimescene"
   ]
  },
  {
   "cell_type": "markdown",
   "metadata": {},
   "source": [
    "Now get to it..."
   ]
  }
 ],
 "metadata": {
  "kernelspec": {
   "display_name": "Python 3",
   "language": "python",
   "name": "python3"
  },
  "language_info": {
   "codemirror_mode": {
    "name": "ipython",
    "version": 3
   },
   "file_extension": ".py",
   "mimetype": "text/x-python",
   "name": "python",
   "nbconvert_exporter": "python",
   "pygments_lexer": "ipython3",
   "version": "3.5.2"
  }
 },
 "nbformat": 4,
 "nbformat_minor": 2
}
